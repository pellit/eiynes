{
 "cells": [
  {
   "cell_type": "code",
   "execution_count": 1,
   "id": "ded33d8b",
   "metadata": {},
   "outputs": [
    {
     "name": "stdout",
     "output_type": "stream",
     "text": [
      "Lista de inicio =  [{'id': 0, 'edad': 43}, {'id': 1, 'edad': 56}, {'id': 2, 'edad': 79}, {'id': 3, 'edad': 11}, {'id': 4, 'edad': 40}, {'id': 5, 'edad': 15}, {'id': 6, 'edad': 8}, {'id': 7, 'edad': 18}, {'id': 8, 'edad': 44}, {'id': 9, 'edad': 81}]\n",
      "________________________________________\n",
      "Ordenada de mayor a menor = [{'id': 9, 'edad': 81}, {'id': 2, 'edad': 79}, {'id': 1, 'edad': 56}, {'id': 8, 'edad': 44}, {'id': 0, 'edad': 43}, {'id': 4, 'edad': 40}, {'id': 7, 'edad': 18}, {'id': 5, 'edad': 15}, {'id': 3, 'edad': 11}, {'id': 6, 'edad': 8}]\n",
      "________________________________________\n",
      "Persona de mas edad para el id = 9\n",
      "Persona de menos edad para el id = 6\n"
     ]
    }
   ],
   "source": [
    "import random\n",
    "\n",
    "\n",
    "\n",
    "\n",
    "def generateRandon():\n",
    "    lista = [{'id':i  ,'edad':random.randint(1,101)} for i in range(10)]\n",
    "    return lista\n",
    "    \n",
    "\n",
    "dicList = generateRandon()\n",
    "print(f'Lista de inicio =  {dicList}')\n",
    "print('________________________________________')\n",
    "dicList.sort(key=lambda p: p['edad'],reverse=True)\n",
    "print(f'Ordenada de mayor a menor = {dicList}')\n",
    "print('________________________________________')\n",
    "idMin = dicList[-1]['id']\n",
    "idMax = dicList[0]['id']\n",
    "print(f'Persona de mas edad para el id = {idMax}')\n",
    "print(f'Persona de menos edad para el id = {idMin}')"
   ]
  },
  {
   "cell_type": "code",
   "execution_count": null,
   "id": "8aa2722c",
   "metadata": {},
   "outputs": [],
   "source": []
  }
 ],
 "metadata": {
  "kernelspec": {
   "display_name": "Python 3 (ipykernel)",
   "language": "python",
   "name": "python3"
  },
  "language_info": {
   "codemirror_mode": {
    "name": "ipython",
    "version": 3
   },
   "file_extension": ".py",
   "mimetype": "text/x-python",
   "name": "python",
   "nbconvert_exporter": "python",
   "pygments_lexer": "ipython3",
   "version": "3.9.7"
  }
 },
 "nbformat": 4,
 "nbformat_minor": 5
}
